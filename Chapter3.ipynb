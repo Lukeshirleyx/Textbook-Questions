{
 "nbformat": 4,
 "nbformat_minor": 2,
 "metadata": {
  "language_info": {
   "name": "python",
   "codemirror_mode": {
    "name": "ipython",
    "version": 3
   },
   "version": "3.7.3"
  },
  "orig_nbformat": 2,
  "file_extension": ".py",
  "mimetype": "text/x-python",
  "name": "python",
  "npconvert_exporter": "python",
  "pygments_lexer": "ipython3",
  "version": 3
 },
 "cells": [
  {
   "cell_type": "code",
   "execution_count": 1,
   "metadata": {},
   "outputs": [],
   "source": [
    "#3.1 \n",
    "\n",
    "import turtle \n",
    "wn = turtle.Screen()\n",
    "wn.bgcolor(\"Khaki4\")\n",
    "wn.title(\"Hello, Alex!\")\n",
    "\n",
    "alex = turtle.Turtle()\n",
    "alex.color(\"blue\")\n",
    "alex.pensize(3)\n",
    "\n",
    "alex.forward(50)\n",
    "alex.left(120)\n",
    "alex.forward(100)\n",
    "\n",
    "wn.mainloop()"
   ]
  },
  {
   "cell_type": "code",
   "execution_count": 1,
   "metadata": {},
   "outputs": [
    {
     "name": "stdout",
     "output_type": "stream",
     "text": "Hi Joe. Please come to my party Saturday!\nHi Zoe. Please come to my party Saturday!\nHi Brad. Please come to my party Saturday!\nHi Angelina. Please come to my party Saturday!\nHi Zuki. Please come to my party Saturday!\nHi Thandi. Please come to my party Saturday!\nHi Paris. Please come to my party Saturday!\n"
    }
   ],
   "source": [
    "#3.3 \n",
    "\n",
    "for f in [\"Joe\",\"Zoe\",\"Brad\",\"Angelina\",\"Zuki\",\"Thandi\",\"Paris\"]:\n",
    "    invite = \"Hi \" + f + \". Please come to my party Saturday!\"\n",
    "    print(invite)"
   ]
  },
  {
   "cell_type": "markdown",
   "execution_count": 6,
   "metadata": {},
   "outputs": [
    {
     "name": "stdout",
     "output_type": "stream",
     "text": "tles!\nWe like Python's turtles!\nWe like Python's turtles!\nWe like Python's turtles!\nWe like Python's turtles!\nWe like Python's turtles!\nWe like Python's turtles!\nWe like Python's turtles!\nWe like Python's turtles!\nWe like Python's turtles!\nWe like Python's turtles!\nWe like Python's turtles!\nWe like Python's turtles!\nWe like Python's turtles!\nWe like Python's turtles!\nWe like Python's turtles!\nWe like Python's turtles!\nWe like Python's turtles!\nWe like Python's turtles!\nWe like Python's turtles!\nWe like Python's turtles!\nWe like Python's turtles!\nWe like Python's turtles!\nWe like Python's turtles!\nWe like Python's turtles!\nWe like Python's turtles!\nWe like Python's turtles!\nWe like Python's turtles!\nWe like Python's turtles!\nWe like Python's turtles!\nWe like Python's turtles!\nWe like Python's turtles!\nWe like Python's turtles!\nWe like Python's turtles!\nWe like Python's turtles!\nWe like Python's turtles!\nWe like Python's turtles!\nWe like Python's turtles!\nWe like Python's turtles!\nWe like Python's turtles!\nWe like Python's turtles!\nWe like Python's turtles!\nWe like Python's turtles!\nWe like Python's turtles!\nWe like Python's turtles!\nWe like Python's turtles!\nWe like Python's turtles!\nWe like Python's turtles!\nWe like Python's turtles!\nWe like Python's turtles!\nWe like Python's turtles!\nWe like Python's turtles!\nWe like Python's turtles!\nWe like Python's turtles!\nWe like Python's turtles!\nWe like Python's turtles!\nWe like Python's turtles!\nWe like Python's turtles!\nWe like Python's turtles!\nWe like Python's turtles!\nWe like Python's turtles!\nWe like Python's turtles!\nWe like Python's turtles!\nWe like Python's turtles!\nWe like Python's turtles!\nWe like Python's turtles!\nWe like Python's turtles!\nWe like Python's turtles!\nWe like Python's turtles!\nWe like Python's turtles!\nWe like Python's turtles!\nWe like Python's turtles!\nWe like Python's turtles!\nWe like Python's turtles!\nWe like Python's turtles!\nWe like Python's turtles!\nWe like Python's turtles!\nWe like Python's turtles!\nWe like Python's turtles!\nWe like Python's turtles!\nWe like Python's turtles!\nWe like Python's turtles!\nWe like Python's turtles!\nWe like Python's turtles!\nWe like Python's turtles!\nWe like Python's turtles!\nWe like Python's turtles!\nWe like Python's turtles!\nWe like Python's turtles!\nWe like Python's turtles!\nWe like Python's turtles!\nWe like Python's turtles!\nWe like Python's turtles!\nWe like Python's turtles!\nWe like Python's turtles!\nWe like Python's turtles!\nWe like Python's turtles!\nWe like Python's turtles!\nWe like Python's turtles!\nWe like Python's turtles!\nWe like Python's turtles!\nWe like Python's turtles!\nWe like Python's turtles!\nWe like Python's turtles!\nWe like Python's turtles!\nWe like Python's turtles!\nWe like Python's turtles!\nWe like Python's turtles!\nWe like Python's turtles!\nWe like Python's turtles!\nWe like Python's turtles!\nWe like Python's turtles!\nWe like Python's turtles!\nWe like Python's turtles!\nWe like Python's turtles!\nWe like Python's turtles!\nWe like Python's turtles!\nWe like Python's turtles!\nWe like Python's turtles!\nWe like Python's turtles!\nWe like Python's turtles!\nWe like Python's turtles!\nWe like Python's turtles!\nWe like Python's turtles!\nWe like Python's turtles!\nWe like Python's turtles!\nWe like Python's turtles!\nWe like Python's turtles!\nWe like Python's turtles!\nWe like Python's turtles!\nWe like Python's turtles!\nWe like Python's turtles!\nWe like Python's turtles!\nWe like Python's turtles!\nWe like Python's turtles!\nWe like Python's turtles!\nWe like Python's turtles!\nWe like Python's turtles!\nWe like Python's turtles!\nWe like Python's turtles!\nWe like Python's turtles!\nWe like Python's turtles!\nWe like Python's turtles!\nWe like Python's turtles!\nWe like Python's turtles!\nWe like Python's turtles!\nWe like Python's turtles!\nWe like Python's turtles!\nWe like Python's turtles!\nWe like Python's turtles!\nWe like Python's turtles!\nWe like Python's turtles!\nWe like Python's turtles!\nWe like Python's turtles!\nWe like Python's turtles!\nWe like Python's turtles!\nWe like Python's turtles!\nWe like Python's turtles!\nWe like Python's turtles!\nWe like Python's turtles!\nWe like Python's turtles!\nWe like Python's turtles!\nWe like Python's turtles!\nWe like Python's turtles!\nWe like Python's turtles!\nWe like Python's turtles!\nWe like Python's turtles!\nWe like Python's turtles!\nWe like Python's turtles!\nWe like Python's turtles!\nWe like Python's turtles!\nWe like Python's turtles!\nWe like Python's turtles!\nWe like Python's turtles!\nWe like Python's turtles!\nWe like Python's turtles!\nWe like Python's turtles!\nWe like Python's turtles!\nWe like Python's turtles!\nWe like Python's turtles!\nWe like Python's turtles!\nWe like Python's turtles!\nWe like Python's turtles!\nWe like Python's turtles!\nWe like Python's turtles!\nWe like Python's turtles!\nWe like Python's turtles!\nWe like Python's turtles!\nWe like Python's turtles!\nWe like Python's turtles!\nWe like Python's turtles!\nWe like Python's turtles!\nWe like Python's turtles!\nWe like Python's turtles!\nWe like Python's turtles!\nWe like Python's turtles!\nWe like Python's turtles!\nWe like Python's turtles!\nWe like Python's turtles!\nWe like Python's turtles!\nWe like Python's turtles!\nWe like Python's turtles!\nWe like Python's turtles!\nWe like Python's turtles!\nWe like Python's turtles!\nWe like Python's turtles!\nWe like Python's turtles!\nWe like Python's turtles!\nWe like Python's turtles!\nWe like Python's turtles!\nWe like Python's turtles!\nWe like Python's turtles!\nWe like Python's turtles!\nWe like Python's turtles!\nWe like Python's turtles!\nWe like Python's turtles!\nWe like Python's turtles!\nWe like Python's turtles!\nWe like Python's turtles!\nWe like Python's turtles!\nWe like Python's turtles!\nWe like Python's turtles!\nWe like Python's turtles!\nWe like Python's turtles!\nWe like Python's turtles!\nWe like Python's turtles!\nWe like Python's turtles!\nWe like Python's turtles!\nWe like Python's turtles!\nWe like Python's turtles!\nWe like Python's turtles!\nWe like Python's turtles!\nWe like Python's turtles!\nWe like Python's turtles!\nWe like Python's turtles!\nWe like Python's turtles!\nWe like Python's turtles!\nWe like Python's turtles!\nWe like Python's turtles!\nWe like Python's turtles!\nWe like Python's turtles!\nWe like Python's turtles!\nWe like Python's turtles!\nWe like Python's turtles!\nWe like Python's turtles!\nWe like Python's turtles!\nWe like Python's turtles!\nWe like Python's turtles!\nWe like Python's turtles!\nWe like Python's turtles!\nWe like Python's turtles!\nWe like Python's turtles!\nWe like Python's turtles!\nWe like Python's turtles!\nWe like Python's turtles!\nWe like Python's turtles!\nWe like Python's turtles!\nWe like Python's turtles!\nWe like Python's turtles!\nWe like Python's turtles!\nWe like Python's turtles!\nWe like Python's turtles!\nWe like Python's turtles!\nWe like Python's turtles!\nWe like Python's turtles!\nWe like Python's turtles!\nWe like Python's turtles!\nWe like Python's turtles!\nWe like Python's turtles!\nWe like Python's turtles!\nWe like Python's turtles!\nWe like Python's turtles!\nWe like Python's turtles!\nWe like Python's turtles!\nWe like Python's turtles!\nWe like Python's turtles!\nWe like Python's turtles!\nWe like Python's turtles!\nWe like Python's turtles!\nWe like Python's turtles!\nWe like Python's turtles!\nWe like Python's turtles!\nWe like Python's turtles!\nWe like Python's turtles!\nWe like Python's turtles!\nWe like Python's turtles!\nWe like Python's turtles!\nWe like Python's turtles!\nWe like Python's turtles!\nWe like Python's turtles!\nWe like Python's turtles!\nWe like Python's turtles!\nWe like Python's turtles!\nWe like Python's turtles!\nWe like Python's turtles!\nWe like Python's turtles!\nWe like Python's turtles!\nWe like Python's turtles!\nWe like Python's turtles!\nWe like Python's turtles!\nWe like Python's turtles!\nWe like Python's turtles!\nWe like Python's turtles!\nWe like Python's turtles!\nWe like Python's turtles!\nWe like Python's turtles!\nWe like Python's turtles!\nWe like Python's turtles!\nWe like Python's turtles!\nWe like Python's turtles!\nWe like Python's turtles!\nWe like Python's turtles!\nWe like Python's turtles!\nWe like Python's turtles!\nWe like Python's turtles!\nWe like Python's turtles!\nWe like Python's turtles!\nWe like Python's turtles!\nWe like Python's turtles!\nWe like Python's turtles!\nWe like Python's turtles!\nWe like Python's turtles!\nWe like Python's turtles!\nWe like Python's turtles!\nWe like Python's turtles!\nWe like Python's turtles!\nWe like Python's turtles!\nWe like Python's turtles!\nWe like Python's turtles!\nWe like Python's turtles!\nWe like Python's turtles!\nWe like Python's turtles!\nWe like Python's turtles!\nWe like Python's turtles!\nWe like Python's turtles!\nWe like Python's turtles!\nWe like Python's turtles!\nWe like Python's turtles!\nWe like Python's turtles!\nWe like Python's turtles!\nWe like Python's turtles!\nWe like Python's turtles!\nWe like Python's turtles!\nWe like Python's turtles!\nWe like Python's turtles!\nWe like Python's turtles!\nWe like Python's turtles!\nWe like Python's turtles!\nWe like Python's turtles!\nWe like Python's turtles!\nWe like Python's turtles!\nWe like Python's turtles!\nWe like Python's turtles!\nWe like Python's turtles!\nWe like Python's turtles!\nWe like Python's turtles!\nWe like Python's turtles!\nWe like Python's turtles!\nWe like Python's turtles!\nWe like Python's turtles!\nWe like Python's turtles!\nWe like Python's turtles!\nWe like Python's turtles!\nWe like Python's turtles!\nWe like Python's turtles!\nWe like Python's turtles!\nWe like Python's turtles!\nWe like Python's turtles!\nWe like Python's turtles!\nWe like Python's turtles!\nWe like Python's turtles!\nWe like Python's turtles!\nWe like Python's turtles!\nWe like Python's turtles!\nWe like Python's turtles!\nWe like Python's turtles!\nWe like Python's turtles!\nWe like Python's turtles!\nWe like Python's turtles!\nWe like Python's turtles!\nWe like Python's turtles!\nWe like Python's turtles!\nWe like Python's turtles!\nWe like Python's turtles!\nWe like Python's turtles!\nWe like Python's turtles!\nWe like Python's turtles!\nWe like Python's turtles!\nWe like Python's turtles!\nWe like Python's turtles!\nWe like Python's turtles!\nWe like Python's turtles!\nWe like Python's turtles!\nWe like Python's turtles!\nWe like Python's turtles!\nWe like Python's turtles!\nWe like Python's turtles!\nWe like Python's turtles!\nWe like Python's turtles!\nWe like Python's turtles!\nWe like Python's turtles!\nWe like Python's turtles!\nWe like Python's turtles!\nWe like Python's turtles!\nWe like Python's turtles!\nWe like Python's turtles!\nWe like Python's turtles!\nWe like Python's turtles!\nWe like Python's turtles!\nWe like Python's turtles!\nWe like Python's turtles!\nWe like Python's turtles!\nWe like Python's turtles!\nWe like Python's turtles!\nWe like Python's turtles!\nWe like Python's turtles!\nWe like Python's turtles!\nWe like Python's turtles!\nWe like Python's turtles!\nWe like Python's turtles!\nWe like Python's turtles!\nWe like Python's turtles!\nWe like Python's turtles!\nWe like Python's turtles!\nWe like Python's turtles!\nWe like Python's turtles!\nWe like Python's turtles!\nWe like Python's turtles!\nWe like Python's turtles!\nWe like Python's turtles!\nWe like Python's turtles!\nWe like Python's turtles!\nWe like Python's turtles!\nWe like Python's turtles!\nWe like Python's turtles!\nWe like Python's turtles!\nWe like Python's turtles!\nWe like Python's turtles!\nWe like Python's turtles!\nWe like Python's turtles!\nWe like Python's turtles!\nWe like Python's turtles!\nWe like Python's turtles!\nWe like Python's turtles!\nWe like Python's turtles!\nWe like Python's turtles!\nWe like Python's turtles!\nWe like Python's turtles!\nWe like Python's turtles!\nWe like Python's turtles!\nWe like Python's turtles!\nWe like Python's turtles!\nWe like Python's turtles!\nWe like Python's turtles!\nWe like Python's turtles!\nWe like Python's turtles!\nWe like Python's turtles!\nWe like Python's turtles!\nWe like Python's turtles!\nWe like Python's turtles!\nWe like Python's turtles!\nWe like Python's turtles!\nWe like Python's turtles!\nWe like Python's turtles!\nWe like Python's turtles!\nWe like Python's turtles!\nWe like Python's turtles!\nWe like Python's turtles!\nWe like Python's turtles!\nWe like Python's turtles!\nWe like Python's turtles!\nWe like Python's turtles!\nWe like Python's turtles!\nWe like Python's turtles!\nWe like Python's turtles!\nWe like Python's turtles!\nWe like Python's turtles!\nWe like Python's turtles!\nWe like Python's turtles!\nWe like Python's turtles!\nWe like Python's turtles!\nWe like Python's turtles!\nWe like Python's turtles!\nWe like Python's turtles!\nWe like Python's turtles!\nWe like Python's turtles!\nWe like Python's turtles!\nWe like Python's turtles!\nWe like Python's turtles!\nWe like Python's turtles!\nWe like Python's turtles!\nWe like Python's turtles!\nWe like Python's turtles!\nWe like Python's turtles!\nWe like Python's turtles!\nWe like Python's turtles!\nWe like Python's turtles!\nWe like Python's turtles!\nWe like Python's turtles!\nWe like Python's turtles!\nWe like Python's turtles!\nWe like Python's turtles!\nWe like Python's turtles!\nWe like Python's turtles!\nWe like Python's turtles!\nWe like Python's turtles!\nWe like Python's turtles!\nWe like Python's turtles!\nWe like Python's turtles!\nWe like Python's turtles!\nWe like Python's turtles!\nWe like Python's turtles!\nWe like Python's turtles!\nWe like Python's turtles!\nWe like Python's turtles!\nWe like Python's turtles!\nWe like Python's turtles!\nWe like Python's turtles!\nWe like Python's turtles!\nWe like Python's turtles!\nWe like Python's turtles!\nWe like Python's turtles!\nWe like Python's turtles!\nWe like Python's turtles!\nWe like Python's turtles!\nWe like Python's turtles!\nWe like Python's turtles!\nWe like Python's turtles!\nWe like Python's turtles!\nWe like Python's turtles!\nWe like Python's turtles!\nWe like Python's turtles!\nWe like Python's turtles!\nWe like Python's turtles!\nWe like Python's turtles!\nWe like Python's turtles!\nWe like Python's turtles!\nWe like Python's turtles!\nWe like Python's turtles!\nWe like Python's turtles!\nWe like Python's turtles!\nWe like Python's turtles!\nWe like Python's turtles!\nWe like Python's turtles!\nWe like Python's turtles!\nWe like Python's turtles!\nWe like Python's turtles!\nWe like Python's turtles!\nWe like Python's turtles!\nWe like Python's turtles!\nWe like Python's turtles!\nWe like Python's turtles!\nWe like Python's turtles!\nWe like Python's turtles!\nWe like Python's turtles!\nWe like Python's turtles!\nWe like Python's turtles!\nWe like Python's turtles!\nWe like Python's turtles!\nWe like Python's turtles!\nWe like Python's turtles!\nWe like Python's turtles!\nWe like Python's turtles!\nWe like Python's turtles!\nWe like Python's turtles!\nWe like Python's turtles!\nWe like Python's turtles!\nWe like Python's turtles!\nWe like Python's turtles!\nWe like Python's turtles!\nWe like Python's turtles!\nWe like Python's turtles!\nWe like Python's turtles!\nWe like Python's turtles!\nWe like Python's turtles!\nWe like Python's turtles!\nWe like Python's turtles!\nWe like Python's turtles!\nWe like Python's turtles!\nWe like Python's turtles!\nWe like Python's turtles!\nWe like Python's turtles!\nWe like Python's turtles!\nWe like Python's turtles!\nWe like Python's turtles!\nWe like Python's turtles!\nWe like Python's turtles!\nWe like Python's turtles!\nWe like Python's turtles!\nWe like Python's turtles!\nWe like Python's turtles!\nWe like Python's turtles!\nWe like Python's turtles!\nWe like Python's turtles!\nWe like Python's turtles!\nWe like Python's turtles!\nWe like Python's turtles!\nWe like Python's turtles!\nWe like Python's turtles!\nWe like Python's turtles!\nWe like Python's turtles!\nWe like Python's turtles!\nWe like Python's turtles!\nWe like Python's turtles!\nWe like Python's turtles!\nWe like Python's turtles!\nWe like Python's turtles!\nWe like Python's turtles!\nWe like Python's turtles!\nWe like Python's turtles!\nWe like Python's turtles!\nWe like Python's turtles!\nWe like Python's turtles!\nWe like Python's turtles!\nWe like Python's turtles!\nWe like Python's turtles!\nWe like Python's turtles!\nWe like Python's turtles!\nWe like Python's turtles!\nWe like Python's turtles!\nWe like Python's turtles!\nWe like Python's turtles!\nWe like Python's turtles!\nWe like Python's turtles!\nWe like Python's turtles!\nWe like Python's turtles!\nWe like Python's turtles!\nWe like Python's turtles!\nWe like Python's turtles!\nWe like Python's turtles!\nWe like Python's turtles!\nWe like Python's turtles!\nWe like Python's turtles!\nWe like Python's turtles!\nWe like Python's turtles!\nWe like Python's turtles!\nWe like Python's turtles!\nWe like Python's turtles!\nWe like Python's turtles!\nWe like Python's turtles!\nWe like Python's turtles!\nWe like Python's turtles!\nWe like Python's turtles!\nWe like Python's turtles!\nWe like Python's turtles!\nWe like Python's turtles!\nWe like Python's turtles!\nWe like Python's turtles!\nWe like Python's turtles!\nWe like Python's turtles!\nWe like Python's turtles!\nWe like Python's turtles!\nWe like Python's turtles!\nWe like Python's turtles!\nWe like Python's turtles!\nWe like Python's turtles!\nWe like Python's turtles!\nWe like Python's turtles!\nWe like Python's turtles!\nWe like Python's turtles!\nWe like Python's turtles!\nWe like Python's turtles!\nWe like Python's turtles!\nWe like Python's turtles!\nWe like Python's turtles!\nWe like Python's turtles!\nWe like Python's turtles!\nWe like Python's turtles!\nWe like Python's turtles!\nWe like Python's turtles!\nWe like Python's turtles!\nWe like Python's turtles!\nWe like Python's turtles!\nWe like Python's turtles!\nWe like Python's turtles!\nWe like Python's turtles!\nWe like Python's turtles!\nWe like Python's turtles!\nWe like Python's turtles!\nWe like Python's turtles!\nWe like Python's turtles!\nWe like Python's turtles!\nWe like Python's turtles!\nWe like Python's turtles!\nWe like Python's turtles!\nWe like Python's turtles!\nWe like Python's turtles!\nWe like Python's turtles!\nWe like Python's turtles!\nWe like Python's turtles!\nWe like Python's turtles!\nWe like Python's turtles!\nWe like Python's turtles!\nWe like Python's turtles!\nWe like Python's turtles!\nWe like Python's turtles!\nWe like Python's turtles!\nWe like Python's turtles!\nWe like Python's turtles!\nWe like Python's turtles!\nWe like Python's turtles!\nWe like Python's turtles!\nWe like Python's turtles!\nWe like Python's turtles!\nWe like Python's turtles!\nWe like Python's turtles!\nWe like Python's turtles!\nWe like Python's turtles!\nWe like Python's turtles!\nWe like Python's turtles!\nWe like Python's turtles!\nWe like Python's turtles!\nWe like Python's turtles!\nWe like Python's turtles!\nWe like Python's turtles!\nWe like Python's turtles!\nWe like Python's turtles!\nWe like Python's turtles!\nWe like Python's turtles!\nWe like Python's turtles!\nWe like Python's turtles!\nWe like Python's turtles!\nWe like Python's turtles!\nWe like Python's turtles!\nWe like Python's turtles!\nWe like Python's turtles!\nWe like Python's turtles!\nWe like Python's turtles!\nWe like Python's turtles!\nWe like Python's turtles!\nWe like Python's turtles!\nWe like Python's turtles!\nWe like Python's turtles!\nWe like Python's turtles!\nWe like Python's turtles!\nWe like Python's turtles!\nWe like Python's turtles!\nWe like Python's turtles!\nWe like Python's turtles!\nWe like Python's turtles!\nWe like Python's turtles!\nWe like Python's turtles!\nWe like Python's turtles!\nWe like Python's turtles!\nWe like Python's turtles!\nWe like Python's turtles!\nWe like Python's turtles!\nWe like Python's turtles!\nWe like Python's turtles!\nWe like Python's turtles!\nWe like Python's turtles!\nWe like Python's turtles!\nWe like Python's turtles!\nWe like Python's turtles!\nWe like Python's turtles!\nWe like Python's turtles!\nWe like Python's turtles!\nWe like Python's turtles!\nWe like Python's turtles!\nWe like Python's turtles!\nWe like Python's turtles!\nWe like Python's turtles!\nWe like Python's turtles!\nWe like Python's turtles!\nWe like Python's turtles!\nWe like Python's turtles!\nWe like Python's turtles!\nWe like Python's turtles!\nWe like Python's turtles!\nWe like Python's turtles!\n"
    }
   ],
   "source": [
    "#3.8 Exercises\n",
    "\n",
    "#1 \n",
    "for i in range(1000):\n",
    "    i = \"We like Python's turtles!\"\n",
    "    print(i)"
   ]
  },
  {
   "cell_type": "markdown",
   "execution_count": 10,
   "metadata": {},
   "outputs": [
    {
     "ename": "SyntaxError",
     "evalue": "invalid syntax (<ipython-input-10-c51439424348>, line 3)",
     "output_type": "error",
     "traceback": [
      "\u001b[1;36m  File \u001b[1;32m\"<ipython-input-10-c51439424348>\"\u001b[1;36m, line \u001b[1;32m3\u001b[0m\n\u001b[1;33m    cell = cell phone\u001b[0m\n\u001b[1;37m                    ^\u001b[0m\n\u001b[1;31mSyntaxError\u001b[0m\u001b[1;31m:\u001b[0m invalid syntax\n"
     ]
    }
   ],
   "source": [
    "#2\n",
    "\n",
    "cell = cell phone\n",
    "\n",
    "cell.model(\"xs max\")\n",
    "cell.color(\"black\")\n",
    "cell.brand(\"apple\")\n",
    "\n",
    "cell.call(\"work\")\n",
    "cell.on(true)\n",
    "cell.off(false)"
   ]
  },
  {
   "cell_type": "code",
   "execution_count": 8,
   "metadata": {},
   "outputs": [
    {
     "name": "stdout",
     "output_type": "stream",
     "text": "One of the months of the year is January\nOne of the months of the year is February\nOne of the months of the year is March\nOne of the months of the year is May\nOne of the months of the year is April\nOne of the months of the year is June\nOne of the months of the year is July\nOne of the months of the year is August\nOne of the months of the year is September\nOne of the months of the year is October\nOne of the months of the year is November\nOne of the months of the year is December\n"
    }
   ],
   "source": [
    "#3\n",
    "\n",
    "for i in [\"January\", \"February\", \"March\", \"May\", \"April\", \"June\", \"July\", \"August\", \"September\", \"October\", \"November\", \"December\"]:\n",
    "    months = \"One of the months of the year is \" + i\n",
    "    print (months)\n"
   ]
  },
  {
   "cell_type": "code",
   "execution_count": null,
   "metadata": {},
   "outputs": [],
   "source": [
    "#4\n",
    "\n",
    "#Facing 45 degrees northeast"
   ]
  },
  {
   "cell_type": "code",
   "execution_count": 25,
   "metadata": {},
   "outputs": [
    {
     "name": "stdout",
     "output_type": "stream",
     "text": "12\n10\n32\n3\n66\n17\n42\n99\n20\n12 squared is 144\n10 squared is 100\n32 squared is 1024\n3 squared is 9\n66 squared is 4356\n17 squared is 289\n42 squared is 1764\n99 squared is 9801\n20 squared is 400\n12\n22\n54\n57\n123\n140\n182\n281\n301\n12\n120\n3840\n11520\n760320\n12925440\n542868480\n53743979520\n1074879590400\n"
    }
   ],
   "source": [
    "#5\n",
    "\n",
    "xs = [12, 10, 32, 3, 66, 17, 42, 99, 20]\n",
    "\n",
    "for i in xs:\n",
    "    print(i)\n",
    "\n",
    "for i in xs:\n",
    "    i2 = str(i) + \" squared is \" + str((i**2))\n",
    "    print(i2)\n",
    "\n",
    "total = 0\n",
    "\n",
    "for i in xs:\n",
    "    total = total + i\n",
    "    print(total)\n",
    "\n",
    "product = 1\n",
    "\n",
    "for i in xs:\n",
    "    product = product * i\n",
    "    print(product)"
   ]
  },
  {
   "cell_type": "code",
   "execution_count": null,
   "metadata": {},
   "outputs": [],
   "source": []
  },
  {
   "cell_type": "code",
   "execution_count": null,
   "metadata": {},
   "outputs": [],
   "source": []
  },
  {
   "cell_type": "code",
   "execution_count": null,
   "metadata": {},
   "outputs": [],
   "source": []
  },
  {
   "cell_type": "code",
   "execution_count": null,
   "metadata": {},
   "outputs": [],
   "source": []
  }
 ]
}