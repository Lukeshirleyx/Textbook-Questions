{
 "nbformat": 4,
 "nbformat_minor": 2,
 "metadata": {
  "language_info": {
   "name": "python",
   "codemirror_mode": {
    "name": "ipython",
    "version": 3
   },
   "version": "3.7.3-final"
  },
  "orig_nbformat": 2,
  "file_extension": ".py",
  "mimetype": "text/x-python",
  "name": "python",
  "npconvert_exporter": "python",
  "pygments_lexer": "ipython3",
  "version": 3,
  "kernelspec": {
   "name": "python37364bitlukesvirtualenv004faf5d71dd4145ad76f3cd1cae3184",
   "display_name": "Python 3.7.3 64-bit ('lukes': virtualenv)"
  }
 },
 "cells": [
  {
   "cell_type": "code",
   "execution_count": 0,
   "metadata": {},
   "outputs": [],
   "source": [
    "#4.1 Functions\n",
    "\n",
    "import turtle\n",
    "\n",
    "def draw_multicolor_square(t, sz):\n",
    "    \"\"\"Make turtle t draw a multi-color square of sz.\"\"\"\n",
    "    for i in [\"red\", \"purple\", \"hotpink\", \"blue\"]:\n",
    "        t.color(i)\n",
    "        t.forward(sz)\n",
    "        t.left(90)\n",
    "\n",
    "wn = turtle.Screen()        # Set up the window and its attributes\n",
    "wn.bgcolor(\"lightgreen\")\n",
    "\n",
    "tess = turtle.Turtle()      # Create tess and set some attributes\n",
    "tess.pensize(3)\n",
    "\n",
    "size = 20                   # Size of the smallest square\n",
    "for i in range(15):\n",
    "    draw_multicolor_square(tess, size)\n",
    "    size = size + 10        # Increase the size for next time\n",
    "    tess.forward(10)        # Move tess along a little\n",
    "    tess.right(18)          #    and give her some turn\n",
    "\n",
    "wn.mainloop()\n"
   ]
  },
  {
   "source": [
    "#1 \n",
    "import turtle\n",
    "\n",
    "def drawSquare(t, sz):\n",
    "    for i in range(4):\n",
    "        t.color(\"pink\")\n",
    "        t.forward(sz)\n",
    "        t.right(90)\n",
    "\n",
    "wn = turtle.Screen()\n",
    "wn.bgcolor(\"lightgreen\")\n",
    "\n",
    "tess = turtle.Turtle()\n",
    "tess.pensize(3)\n",
    "\n",
    "size = 20\n",
    "for i in range(5):\n",
    "    drawSquare(tess, size)\n",
    "    tess.penup()\n",
    "    tess.forward(20)\n",
    "    tess.pendown()\n",
    "\n",
    "wn.mainloop()\n",
    ""
   ],
   "cell_type": "code",
   "outputs": [],
   "metadata": {},
   "execution_count": 1
  },
  {
   "cell_type": "code",
   "execution_count": null,
   "metadata": {},
   "outputs": [],
   "source": []
  }
 ]
}